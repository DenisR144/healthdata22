{
  "nbformat": 4,
  "nbformat_minor": 0,
  "metadata": {
    "colab": {
      "provenance": [],
      "include_colab_link": true
    },
    "kernelspec": {
      "name": "python3",
      "display_name": "Python 3"
    },
    "language_info": {
      "name": "python"
    }
  },
  "cells": [
    {
      "cell_type": "markdown",
      "metadata": {
        "id": "view-in-github",
        "colab_type": "text"
      },
      "source": [
        "<a href=\"https://colab.research.google.com/github/DenisR144/healthdata22/blob/main/Dataton_2022_(DR_and_T_SH).ipynb\" target=\"_parent\"><img src=\"https://colab.research.google.com/assets/colab-badge.svg\" alt=\"Open In Colab\"/></a>"
      ]
    },
    {
      "cell_type": "markdown",
      "source": [
        "**Основные действия по основной информации**\n"
      ],
      "metadata": {
        "id": "Bv7551gn9X_7"
      }
    },
    {
      "cell_type": "code",
      "source": [
        "from google.colab import drive\n",
        "drive.mount('/content/drive')"
      ],
      "metadata": {
        "colab": {
          "base_uri": "https://localhost:8080/"
        },
        "id": "yC4ntWOI5Soy",
        "outputId": "ffe457a4-1700-46c1-9f61-91598cf2ec36"
      },
      "execution_count": null,
      "outputs": [
        {
          "output_type": "stream",
          "name": "stdout",
          "text": [
            "Drive already mounted at /content/drive; to attempt to forcibly remount, call drive.mount(\"/content/drive\", force_remount=True).\n"
          ]
        }
      ]
    },
    {
      "cell_type": "markdown",
      "source": [
        "**Подключение основных библиотек**"
      ],
      "metadata": {
        "id": "ErkAzzVY9hND"
      }
    },
    {
      "cell_type": "code",
      "source": [
        "import numpy as np\n",
        "import pandas as pd\n",
        "from pandas import DataFrame, Series\n",
        "import sqlite3 as db"
      ],
      "metadata": {
        "id": "aN74rgG36lpc"
      },
      "execution_count": null,
      "outputs": []
    },
    {
      "cell_type": "markdown",
      "source": [
        "**Создание основной БД (без текстовых полей)**"
      ],
      "metadata": {
        "id": "uL_ugzmX9oUM"
      }
    },
    {
      "cell_type": "code",
      "execution_count": null,
      "metadata": {
        "colab": {
          "base_uri": "https://localhost:8080/"
        },
        "id": "cqVPZtBmidG8",
        "outputId": "9ec1549c-f7b2-4df9-ec24-a15e9f6ecc3a"
      },
      "outputs": [
        {
          "output_type": "execute_result",
          "data": {
            "text/plain": [
              "[('1;2022-03-15;GGT;2021-07-21;C;61;2;1;0;0;1;0;1;1.txt',),\n",
              " ('2;2022-02-21;ATM;2018-07-20;О;26;8;1;0;0;1;1;0;2.txt',),\n",
              " ('3;2021-12-01;CAM;1929-07-08;I;63;0;1;1;0;1;0;0;3.txt',)]"
            ]
          },
          "metadata": {},
          "execution_count": 28
        }
      ],
      "source": [
        "df = pd.read_csv(\"drive/MyDrive/DataMed.csv\")\n",
        "#print(df)\n",
        "\n",
        "conn = db.connect(':memory:')\n",
        "cur = conn.cursor()\n",
        "df.to_sql('table1', conn, if_exists='replace', index=False)\n",
        "#UID;Date;Name;DOB;MKB_1;MKB_2;MKB_3;Died;Violations;ViolationsCausedDeath;Hospital;Ambulance;Home;Meddoc\n",
        "res = cur.execute(\"SELECT * FROM table1\")\n",
        "row = res.fetchall()\n",
        "\n",
        "row"
      ]
    },
    {
      "cell_type": "markdown",
      "source": [
        "**Подгрузка текстов**"
      ],
      "metadata": {
        "id": "crOv4mRZ9tg0"
      }
    },
    {
      "cell_type": "code",
      "source": [],
      "metadata": {
        "id": "PqrsLS7e9wP0"
      },
      "execution_count": null,
      "outputs": []
    },
    {
      "cell_type": "markdown",
      "source": [
        "**Обработка текстов**\n",
        "\n",
        "1) Стемминг (отрезаем в словах окончания и суффиксы), есть вроде готовые библиотеки под русский язык //минусы - теряем часть информации, а часть - сливается\n",
        "\n",
        "*или* \n",
        "\n",
        "2) Лемматизация (морфологический анализ) с целью логического объединения разных форм (например \"шёл\", \"идти\" - перевод в слов в начальные формы) - библиотеки pymorphy2, pymystem3\n",
        "\n",
        "3) частотный анализ, т.е. закидываем все слова с частотным анализом в матрицу, и дальше обрабатываем как вектора\n",
        "Это надо делать после выше приведенных 1 или 2\n",
        "\n",
        "4) составление матрицы по частоте использования частей речи (глагол, существительное, прилагательное), перевод их в процентное соотношение от объема текста"
      ],
      "metadata": {
        "id": "25t33QEj9ws6"
      }
    },
    {
      "cell_type": "markdown",
      "source": [
        "1. избавимся от всех лишних символов, кроме русских букв, дефисов и пробелов.\n",
        "\n",
        "\n",
        "2. цепочка дат событий: приведение дат к единому формату, выстраивание цепочек\n",
        "\n",
        "3. создание словаря - значимых терминов (от Дениса Рощина, максимальная вероятность получить нормальный словарь)\n",
        "далее слова из этого словаря найти в текстах и по каждой истории болезни вывести частотную характеристику по каждому слову словаря\n",
        "В словаре могут быть синонимы.\n",
        "Статистику по синонимам объединить.\n",
        "\n",
        "Со словарем значимых слов мне кажется будет решение изящнее..."
      ],
      "metadata": {
        "id": "HPokM_3TBTVj"
      }
    },
    {
      "cell_type": "code",
      "source": [],
      "metadata": {
        "id": "V7Qn9dtZ9y-r"
      },
      "execution_count": null,
      "outputs": []
    },
    {
      "cell_type": "markdown",
      "source": [
        "**Основной анализ обработанного текста и основных полей**"
      ],
      "metadata": {
        "id": "Qg8JlyeQ9zGu"
      }
    },
    {
      "cell_type": "code",
      "source": [],
      "metadata": {
        "id": "0_B4iAhw93i8"
      },
      "execution_count": null,
      "outputs": []
    },
    {
      "cell_type": "markdown",
      "source": [
        "**Всяческая визуализация**"
      ],
      "metadata": {
        "id": "OsuPcaFU93Uz"
      }
    },
    {
      "cell_type": "code",
      "source": [],
      "metadata": {
        "id": "Z-BJq1Kh95FF"
      },
      "execution_count": null,
      "outputs": []
    }
  ]
}